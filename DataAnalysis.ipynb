{
 "cells": [
  {
   "cell_type": "code",
   "execution_count": null,
   "id": "1dcda708-0db9-45a8-98a6-38ac2a586c19",
   "metadata": {},
   "outputs": [],
   "source": [
    "import pandas as pd\n",
    "import matplotlib.pyplot as plt\n",
    "import seaborn as sns\n"
   ]
  },
  {
   "cell_type": "code",
   "execution_count": null,
   "id": "4621c5b6-9f63-47d5-9921-394a2b9b20dc",
   "metadata": {},
   "outputs": [],
   "source": [
    "data = pd.read_csv(\"data.csv\")"
   ]
  },
  {
   "cell_type": "code",
   "execution_count": null,
   "id": "754d018d-02e8-4abd-bfb4-ea5c1016b8bd",
   "metadata": {},
   "outputs": [],
   "source": [
    "data.head()"
   ]
  },
  {
   "cell_type": "code",
   "execution_count": null,
   "id": "5dcd6180-698e-44ce-a817-496d5901f087",
   "metadata": {},
   "outputs": [],
   "source": [
    "kbs = data.keyboard.unique()\n",
    "\n",
    "for i in kbs:\n",
    "    print(i, \":\", data[data[\"keyboard\"]== i ].wpm.mean())"
   ]
  },
  {
   "cell_type": "code",
   "execution_count": null,
   "id": "d6e0211d-65ba-4ea2-98cb-60f9802a228d",
   "metadata": {},
   "outputs": [],
   "source": [
    "plt.scatter(data=data[data[\"keyboard\"]==\"simulation1\"], x=\"letters\", y=\"lps\")\n",
    "plt.xlabel(\"Number of letters\")\n",
    "plt.ylabel(\"Word per minute\")\n",
    "plt.show()"
   ]
  },
  {
   "cell_type": "code",
   "execution_count": null,
   "id": "d0769930-973a-4aba-8f64-c15508b195f9",
   "metadata": {},
   "outputs": [],
   "source": [
    "cleaned = data[(data.length < 600) & (data.WPS > 145)]"
   ]
  },
  {
   "cell_type": "code",
   "execution_count": null,
   "id": "a1da7826-3447-43c0-9c3c-996ac75703c8",
   "metadata": {},
   "outputs": [],
   "source": [
    "colors = {'DVORAK': 'blue', 'QWERTY': 'red'}\n",
    "for category in cleaned['layout'].unique():\n",
    "    subset = cleaned[cleaned['layout'] == category]\n",
    "    plt.scatter(subset['length'], subset['WPS'], c=colors[category], label=f'Category {category}')\n",
    "\n",
    "plt.xlabel(\"Number of letters\")\n",
    "plt.ylabel(\"Word per second\")\n",
    "plt.title(\"Scatter graph \")\n",
    "\n",
    "plt.show()\n"
   ]
  },
  {
   "cell_type": "code",
   "execution_count": null,
   "id": "f7464456-bb77-4330-8bd4-0dae3db15403",
   "metadata": {},
   "outputs": [],
   "source": [
    "colors = {'DVORAK': 'blue', 'QWERTY': 'red'}\n",
    "for category in cleaned['layout'].unique():\n",
    "    subset = cleaned[cleaned['layout'] == category]\n",
    "    plt.scatter(subset['length'], subset['LPS'], c=colors[category], label=f'Category {category}')\n",
    "\n",
    "plt.xlabel(\"Number of letters\")\n",
    "plt.ylabel(\"Word per second\")\n",
    "plt.title(\"Scatter graph \")\n",
    "\n",
    "plt.show()\n"
   ]
  },
  {
   "cell_type": "code",
   "execution_count": null,
   "id": "e4e36e33-f9c2-418d-b30b-86cf4abeef15",
   "metadata": {},
   "outputs": [],
   "source": [
    "evaluate = pd.read_csv(\"evaluation.csv\")\n",
    "evaluate[\"wpm\"] = evaluate[\"wpm\"]*60\n",
    "evaluate.head()"
   ]
  },
  {
   "cell_type": "code",
   "execution_count": null,
   "id": "663a97c4-9031-4b85-b430-dabe956a2c6d",
   "metadata": {
    "scrolled": true
   },
   "outputs": [],
   "source": [
    "df = pd.DataFrame(columns=evaluate.text.unique(), index=evaluate.keyboard.unique())\n",
    "\n",
    "contingency_table = pd.crosstab(evaluate['keyboard'], evaluate['text'], values=evaluate['lps'], aggfunc=\"mean\")"
   ]
  },
  {
   "cell_type": "code",
   "execution_count": null,
   "id": "8d26d39c-6d93-4078-8abc-741cd4319299",
   "metadata": {},
   "outputs": [],
   "source": [
    "df = contingency_table.reset_index()\n",
    "\n",
    "df = df.T\n",
    "df.reset_index(inplace=True)\n",
    "df.columns = df.iloc[0]\n",
    "df=df.drop(0)\n",
    "df.set_index(\"keyboard\", inplace=True)\n",
    "df = df.apply(pd.to_numeric, errors='coerce')\n",
    "\n",
    "df.describe()\n"
   ]
  },
  {
   "cell_type": "code",
   "execution_count": null,
   "id": "fb8f2e33-e1d7-4939-9d96-b04715da8fbb",
   "metadata": {},
   "outputs": [],
   "source": [
    "plt.figure(figsize=(15, 10))\n",
    "sns.heatmap(df, annot=True, cmap=\"Blues\",linewidths=1, fmt=\".3f\")\n",
    "plt.xlabel(\"Keyboard Layout\")\n",
    "plt.ylabel(\"Testing data\")\n",
    "plt.savefig('evaluation/evaluation_LPS.png', dpi=600, bbox_inches=\"tight\")\n",
    "plt.show()"
   ]
  }
 ],
 "metadata": {
  "kernelspec": {
   "display_name": "Python 3 (ipykernel)",
   "language": "python",
   "name": "python3"
  },
  "language_info": {
   "codemirror_mode": {
    "name": "ipython",
    "version": 3
   },
   "file_extension": ".py",
   "mimetype": "text/x-python",
   "name": "python",
   "nbconvert_exporter": "python",
   "pygments_lexer": "ipython3",
   "version": "3.8.20"
  }
 },
 "nbformat": 4,
 "nbformat_minor": 5
}
